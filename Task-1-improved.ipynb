{
 "cells": [
  {
   "cell_type": "code",
   "execution_count": null,
   "id": "b79e7710",
   "metadata": {},
   "outputs": [],
   "source": [
    "import warnings\n",
    "warnings.filterwarnings(\"ignore\")"
   ]
  },
  {
   "cell_type": "code",
   "execution_count": null,
   "id": "50bdb00c",
   "metadata": {},
   "outputs": [],
   "source": [
    "# yellowbrick designed to aid in the visualization and interpretation \n",
    "# I use it to dimensionality reduction"
   ]
  },
  {
   "cell_type": "code",
   "execution_count": null,
   "id": "d37d70b7",
   "metadata": {},
   "outputs": [],
   "source": [
    "!pip install yellowbrick "
   ]
  },
  {
   "cell_type": "code",
   "execution_count": null,
   "id": "b3f06ef3",
   "metadata": {},
   "outputs": [],
   "source": [
    "import os\n",
    "import numpy as np\n",
    "import pandas as pd\n",
    "\n",
    "import seaborn as sns\n",
    "import plotly.express as px \n",
    "import matplotlib.pyplot as plt\n",
    "%matplotlib inline\n",
    "import plotly.graph_objects as go\n",
    "\n",
    "from sklearn.preprocessing import StandardScaler\n",
    "from sklearn.pipeline import Pipeline\n",
    "\n",
    "from sklearn.manifold import TSNE\n",
    "from sklearn.decomposition import PCA\n",
    "\n",
    "from yellowbrick.target import FeatureCorrelation\n",
    "from sklearn.ensemble import RandomForestClassifier\n",
    "from sklearn.model_selection import train_test_split\n",
    "\n",
    "from sklearn.neighbors import KNeighborsClassifier\n",
    "from sklearn.cluster import KMeans\n",
    "from sklearn.neighbors import NearestNeighbors \n",
    "from sklearn.metrics import classification_report, accuracy_score\n",
    "import joblib"
   ]
  },
  {
   "cell_type": "code",
   "execution_count": null,
   "id": "45f4822b",
   "metadata": {},
   "outputs": [],
   "source": [
    "data = pd.read_csv(\"C:\\\\Users\\\\hoorm\\\\Desktop\\\\Codes\\\\Internship Code Alpha\\\\CodeAlpha_ MUSIC RECOMMDATION SYSTEM\\\\data.csv\")\n",
    "genre_data = pd.read_csv(\"C:\\\\Users\\\\hoorm\\\\Desktop\\\\Codes\\\\Internship Code Alpha\\\\CodeAlpha_ MUSIC RECOMMDATION SYSTEM\\\\data_by_genres.csv\")\n",
    "year_data = pd.read_csv(\"C:\\\\Users\\\\hoorm\\\\Desktop\\\\Codes\\\\Internship Code Alpha\\\\CodeAlpha_ MUSIC RECOMMDATION SYSTEM\\\\data_by_year.csv\")"
   ]
  },
  {
   "cell_type": "code",
   "execution_count": null,
   "id": "8a4c45da",
   "metadata": {},
   "outputs": [],
   "source": [
    "data"
   ]
  },
  {
   "cell_type": "code",
   "execution_count": null,
   "id": "bff7ce48",
   "metadata": {},
   "outputs": [],
   "source": [
    "print(data.info())"
   ]
  },
  {
   "cell_type": "code",
   "execution_count": null,
   "id": "6c730cec",
   "metadata": {},
   "outputs": [],
   "source": [
    "data.describe()"
   ]
  },
  {
   "cell_type": "code",
   "execution_count": null,
   "id": "41342319",
   "metadata": {},
   "outputs": [],
   "source": [
    "data.isnull().sum()"
   ]
  },
  {
   "cell_type": "code",
   "execution_count": null,
   "id": "236d4b97",
   "metadata": {},
   "outputs": [],
   "source": [
    "data.shape"
   ]
  },
  {
   "cell_type": "code",
   "execution_count": null,
   "id": "cdb68041",
   "metadata": {},
   "outputs": [],
   "source": [
    "data.valence.hist()"
   ]
  },
  {
   "cell_type": "code",
   "execution_count": null,
   "id": "76be7933",
   "metadata": {},
   "outputs": [],
   "source": [
    "data.year.hist()"
   ]
  },
  {
   "cell_type": "code",
   "execution_count": null,
   "id": "b9f67168",
   "metadata": {},
   "outputs": [],
   "source": [
    "data.acousticness.hist()"
   ]
  },
  {
   "cell_type": "code",
   "execution_count": null,
   "id": "a32261be",
   "metadata": {},
   "outputs": [],
   "source": [
    "data.danceability.hist()"
   ]
  },
  {
   "cell_type": "code",
   "execution_count": null,
   "id": "2512d02a",
   "metadata": {},
   "outputs": [],
   "source": [
    "data.duration_ms.hist()"
   ]
  },
  {
   "cell_type": "code",
   "execution_count": null,
   "id": "a029184d",
   "metadata": {},
   "outputs": [],
   "source": [
    "data.energy.hist()"
   ]
  },
  {
   "cell_type": "code",
   "execution_count": null,
   "id": "8143f290",
   "metadata": {},
   "outputs": [],
   "source": [
    "data.explicit.hist()"
   ]
  },
  {
   "cell_type": "code",
   "execution_count": null,
   "id": "13c678ea",
   "metadata": {},
   "outputs": [],
   "source": [
    "data.instrumentalness.hist()"
   ]
  },
  {
   "cell_type": "code",
   "execution_count": null,
   "id": "a96036f9",
   "metadata": {},
   "outputs": [],
   "source": [
    "data.key.hist()"
   ]
  },
  {
   "cell_type": "code",
   "execution_count": null,
   "id": "c8d75de3",
   "metadata": {},
   "outputs": [],
   "source": [
    "data.liveness.hist()"
   ]
  },
  {
   "cell_type": "code",
   "execution_count": null,
   "id": "634741aa",
   "metadata": {},
   "outputs": [],
   "source": [
    "data.loudness.hist()"
   ]
  },
  {
   "cell_type": "code",
   "execution_count": null,
   "id": "20940d41",
   "metadata": {},
   "outputs": [],
   "source": [
    "data.popularity.hist()"
   ]
  },
  {
   "cell_type": "code",
   "execution_count": null,
   "id": "6632205a",
   "metadata": {},
   "outputs": [],
   "source": [
    "data.speechiness.hist()"
   ]
  },
  {
   "cell_type": "code",
   "execution_count": null,
   "id": "21bf448f",
   "metadata": {},
   "outputs": [],
   "source": [
    "data.tempo.hist()"
   ]
  },
  {
   "cell_type": "code",
   "execution_count": null,
   "id": "ada50bd0",
   "metadata": {},
   "outputs": [],
   "source": [
    "genre_data"
   ]
  },
  {
   "cell_type": "code",
   "execution_count": null,
   "id": "3b3bea56",
   "metadata": {},
   "outputs": [],
   "source": [
    "genre_data.describe()"
   ]
  },
  {
   "cell_type": "code",
   "execution_count": null,
   "id": "d4c9b5e1",
   "metadata": {},
   "outputs": [],
   "source": [
    "print(genre_data.info())"
   ]
  },
  {
   "cell_type": "code",
   "execution_count": null,
   "id": "5215710d",
   "metadata": {},
   "outputs": [],
   "source": [
    "genre_data.isnull().sum()"
   ]
  },
  {
   "cell_type": "code",
   "execution_count": null,
   "id": "706c5f2a",
   "metadata": {},
   "outputs": [],
   "source": [
    "genre_data.shape"
   ]
  },
  {
   "cell_type": "code",
   "execution_count": null,
   "id": "e379a22b",
   "metadata": {},
   "outputs": [],
   "source": [
    "genre_data.acousticness.hist()"
   ]
  },
  {
   "cell_type": "code",
   "execution_count": null,
   "id": "436179d2",
   "metadata": {},
   "outputs": [],
   "source": [
    "genre_data.danceability.hist()"
   ]
  },
  {
   "cell_type": "code",
   "execution_count": null,
   "id": "424b3f5d",
   "metadata": {},
   "outputs": [],
   "source": [
    "genre_data.duration_ms.hist()"
   ]
  },
  {
   "cell_type": "code",
   "execution_count": null,
   "id": "f8a0d615",
   "metadata": {},
   "outputs": [],
   "source": [
    "genre_data.energy.hist()"
   ]
  },
  {
   "cell_type": "code",
   "execution_count": null,
   "id": "1fb840c3",
   "metadata": {},
   "outputs": [],
   "source": [
    "genre_data.instrumentalness.hist()"
   ]
  },
  {
   "cell_type": "code",
   "execution_count": null,
   "id": "b173f183",
   "metadata": {},
   "outputs": [],
   "source": [
    "genre_data.liveness.hist()"
   ]
  },
  {
   "cell_type": "code",
   "execution_count": null,
   "id": "1e2ce247",
   "metadata": {},
   "outputs": [],
   "source": [
    "genre_data.loudness.hist()"
   ]
  },
  {
   "cell_type": "code",
   "execution_count": null,
   "id": "bc78792b",
   "metadata": {},
   "outputs": [],
   "source": [
    "genre_data.speechiness.hist()"
   ]
  },
  {
   "cell_type": "code",
   "execution_count": null,
   "id": "4fbae695",
   "metadata": {},
   "outputs": [],
   "source": [
    "genre_data.tempo.hist()"
   ]
  },
  {
   "cell_type": "code",
   "execution_count": null,
   "id": "020ff217",
   "metadata": {},
   "outputs": [],
   "source": [
    "genre_data.valence.hist()"
   ]
  },
  {
   "cell_type": "code",
   "execution_count": null,
   "id": "a09bcf71",
   "metadata": {},
   "outputs": [],
   "source": [
    "genre_data.popularity.hist()"
   ]
  },
  {
   "cell_type": "code",
   "execution_count": null,
   "id": "1cf7753d",
   "metadata": {},
   "outputs": [],
   "source": [
    "genre_data.key.hist()"
   ]
  },
  {
   "cell_type": "code",
   "execution_count": null,
   "id": "1926c2d0",
   "metadata": {},
   "outputs": [],
   "source": [
    "year_data"
   ]
  },
  {
   "cell_type": "code",
   "execution_count": null,
   "id": "035a78b9",
   "metadata": {},
   "outputs": [],
   "source": [
    "year_data.describe()"
   ]
  },
  {
   "cell_type": "code",
   "execution_count": null,
   "id": "90f11c61",
   "metadata": {},
   "outputs": [],
   "source": [
    "print(year_data.info())"
   ]
  },
  {
   "cell_type": "code",
   "execution_count": null,
   "id": "5a36e58e",
   "metadata": {},
   "outputs": [],
   "source": [
    "year_data.isnull().sum()"
   ]
  },
  {
   "cell_type": "code",
   "execution_count": null,
   "id": "61039417",
   "metadata": {},
   "outputs": [],
   "source": [
    "year_data.shape"
   ]
  },
  {
   "cell_type": "code",
   "execution_count": null,
   "id": "1af5de76",
   "metadata": {},
   "outputs": [],
   "source": [
    "year_data.year.hist()"
   ]
  },
  {
   "cell_type": "code",
   "execution_count": null,
   "id": "2dd68a4b",
   "metadata": {},
   "outputs": [],
   "source": [
    "year_data.acousticness.hist()"
   ]
  },
  {
   "cell_type": "code",
   "execution_count": null,
   "id": "5dd85770",
   "metadata": {},
   "outputs": [],
   "source": [
    "year_data.danceability.hist()"
   ]
  },
  {
   "cell_type": "code",
   "execution_count": null,
   "id": "5339abdf",
   "metadata": {},
   "outputs": [],
   "source": [
    "year_data.duration_ms.hist()"
   ]
  },
  {
   "cell_type": "code",
   "execution_count": null,
   "id": "349f46ed",
   "metadata": {},
   "outputs": [],
   "source": [
    "year_data.energy.hist()"
   ]
  },
  {
   "cell_type": "code",
   "execution_count": null,
   "id": "706dd3d0",
   "metadata": {},
   "outputs": [],
   "source": [
    "year_data.instrumentalness.hist()"
   ]
  },
  {
   "cell_type": "code",
   "execution_count": null,
   "id": "6c5dcf67",
   "metadata": {},
   "outputs": [],
   "source": [
    "year_data.liveness.hist()"
   ]
  },
  {
   "cell_type": "code",
   "execution_count": null,
   "id": "dbf09011",
   "metadata": {},
   "outputs": [],
   "source": [
    "year_data.loudness.hist()"
   ]
  },
  {
   "cell_type": "code",
   "execution_count": null,
   "id": "32fc93ef",
   "metadata": {},
   "outputs": [],
   "source": [
    "year_data.speechiness.hist()"
   ]
  },
  {
   "cell_type": "code",
   "execution_count": null,
   "id": "6ceffd9b",
   "metadata": {},
   "outputs": [],
   "source": [
    "year_data.tempo.hist()"
   ]
  },
  {
   "cell_type": "code",
   "execution_count": null,
   "id": "fc3c85d2",
   "metadata": {},
   "outputs": [],
   "source": [
    "year_data.valence.hist()"
   ]
  },
  {
   "cell_type": "code",
   "execution_count": null,
   "id": "a8ec2d6c",
   "metadata": {},
   "outputs": [],
   "source": [
    "year_data.popularity.hist()"
   ]
  },
  {
   "cell_type": "code",
   "execution_count": null,
   "id": "e28c186a",
   "metadata": {},
   "outputs": [],
   "source": [
    "year_data.key.hist()"
   ]
  },
  {
   "cell_type": "code",
   "execution_count": null,
   "id": "577e81b7",
   "metadata": {},
   "outputs": [],
   "source": [
    "feature_names = ['acousticness', 'danceability', 'energy', 'instrumentalness',\n",
    "       'liveness', 'loudness', 'speechiness', 'tempo', 'valence','duration_ms','explicit','key','mode','year']\n",
    "\n",
    "X, y = data[feature_names], data['popularity']\n",
    "\n",
    "# Create a list of the feature names\n",
    "features = np.array(feature_names)\n",
    "\n",
    "# Instantiate the visualizer\n",
    "visualizer = FeatureCorrelation(labels=features)\n",
    "\n",
    "plt.rcParams['figure.figsize']=(20,20)\n",
    "visualizer.fit(X, y)     \n",
    "visualizer.show()"
   ]
  },
  {
   "cell_type": "code",
   "execution_count": null,
   "id": "cc81f142",
   "metadata": {},
   "outputs": [],
   "source": [
    "# Compute the correlation matrix\n",
    "correlation_matrix = X.corr()\n",
    "\n",
    "# Create a heatmap using Plotly\n",
    "fig = go.Figure(data=go.Heatmap(\n",
    "    z=correlation_matrix.values,\n",
    "    x=correlation_matrix.columns,\n",
    "    y=correlation_matrix.columns,\n",
    "    colorscale='Viridis',\n",
    "    colorbar=dict(title='Correlation')\n",
    "))\n",
    "\n",
    "# Update layout for better readability\n",
    "fig.update_layout(\n",
    "    title='Feature Correlation Matrix',\n",
    "    xaxis_title='Features',\n",
    "    yaxis_title='Features',\n",
    "    xaxis=dict(tickangle=-45),\n",
    "    yaxis=dict(tickangle=0),\n",
    "    autosize=True,\n",
    "    width=800,\n",
    "    height=800\n",
    ")\n",
    "\n",
    "fig.show()"
   ]
  },
  {
   "cell_type": "code",
   "execution_count": null,
   "id": "18d0072a",
   "metadata": {},
   "outputs": [],
   "source": [
    "# processes a DataFrame containing song years\n",
    "# Function to get the decade\n",
    "def get_decade(year):\n",
    "    period_start = int(year / 10) * 10\n",
    "    decade = '{}s'.format(period_start)\n",
    "    return decade\n",
    "\n",
    "# Assuming 'data' is your DataFrame and it has a 'year' column\n",
    "data['decade'] = data['year'].apply(get_decade)\n",
    "\n",
    "# Create a Plotly Express histogram to replicate the Seaborn countplot\n",
    "fig = px.histogram(data_frame=data, x='decade', \n",
    "                   labels={'decade': 'Decade', 'count': 'Count'}, title='Songs by Decade')\n",
    "\n",
    "fig.update_layout(\n",
    "    xaxis_title='Decade',\n",
    "    yaxis_title='Count',\n",
    "    title_font=dict(size=20),\n",
    "    xaxis=dict(tickfont=dict(size=12)),\n",
    "    yaxis=dict(tickfont=dict(size=12)),\n",
    "    bargap=0.1,  \n",
    "    bargroupgap=0.1   \n",
    ")\n",
    "\n",
    "fig.show()"
   ]
  },
  {
   "cell_type": "code",
   "execution_count": null,
   "id": "a1983a78",
   "metadata": {
    "scrolled": false
   },
   "outputs": [],
   "source": [
    "sound_features = ['acousticness', 'danceability', 'energy', 'instrumentalness', 'liveness', 'valence']\n",
    "fig = px.line(year_data, x='year', y=sound_features)\n",
    "fig.show()"
   ]
  },
  {
   "cell_type": "code",
   "execution_count": null,
   "id": "ab608494",
   "metadata": {},
   "outputs": [],
   "source": [
    "top10_genres = genre_data.nlargest(10, 'popularity')\n",
    "\n",
    "fig = px.bar(top10_genres, x='genres', y=['valence', 'energy', 'danceability', 'acousticness'], barmode='group')\n",
    "fig.show()"
   ]
  },
  {
   "cell_type": "code",
   "execution_count": null,
   "id": "b3d32ad5",
   "metadata": {},
   "outputs": [],
   "source": [
    "# Split the data into training and testing sets\n",
    "X_train, X_test, y_train, y_test = train_test_split(X, y, test_size=0.3, random_state=42)\n",
    "\n",
    "# Train a Random Forest model\n",
    "model = RandomForestClassifier(random_state=42)\n",
    "model.fit(X_train, y_train)\n",
    "\n",
    "# Extract feature importances\n",
    "feature_importances = model.feature_importances_\n",
    "\n",
    "# Create a DataFrame for the feature importances\n",
    "importance_df = pd.DataFrame({\n",
    "    'Feature': feature_names,\n",
    "    'Importance': feature_importances\n",
    "})\n",
    "\n",
    "# Sort the features by importance\n",
    "importance_df = importance_df.sort_values(by='Importance', ascending=False)\n",
    "\n",
    "\n",
    "# Alternatively, plot the feature importances using Plotly\n",
    "fig = px.bar(importance_df, x='Importance', y='Feature', title='Feature Importance')\n",
    "fig.show()"
   ]
  },
  {
   "cell_type": "code",
   "execution_count": null,
   "id": "8eb84594",
   "metadata": {},
   "outputs": [],
   "source": [
    "# Group by 'mode' and calculate the mean popularity\n",
    "fig, ax = plt.subplots(figsize=(8, 5))\n",
    "data.groupby('mode')['popularity'].mean().plot(kind='bar', ax=ax, fontsize=14, rot='horizontal')\n",
    "\n",
    "# Set the title and labels\n",
    "plt.title(\"Mode and Popularity\", fontdict={'fontsize':20})\n",
    "plt.ylabel('Average Popularity', fontdict={'fontsize':14})\n",
    "plt.xlabel('')\n",
    "\n",
    "# Add annotations based on mode values\n",
    "for index, value in enumerate(data.groupby('mode')['popularity'].mean()):\n",
    "    if index == 0:\n",
    "        ax.text(index, value + 0.1, 'Happy', ha='center', va='bottom', fontsize=12, color='blue')\n",
    "    elif index == 1:\n",
    "        ax.text(index, value + 0.1, 'Sad', ha='center', va='bottom', fontsize=12, color='red')\n",
    "\n",
    "plt.show()"
   ]
  },
  {
   "cell_type": "code",
   "execution_count": null,
   "id": "93ef538e",
   "metadata": {},
   "outputs": [],
   "source": [
    "# Corrected Pipeline definition\n",
    "cluster_pipeline = Pipeline([\n",
    "    ('scaler', StandardScaler()), \n",
    "    ('kmeans', KMeans(n_clusters=10))\n",
    "])\n",
    "\n",
    "# Selecting numerical data from genre_data\n",
    "X = genre_data.select_dtypes(np.number)\n",
    "\n",
    "# Fitting the pipeline to the data\n",
    "cluster_pipeline.fit(X)\n",
    "\n",
    "# Adding cluster labels to the original dataframe\n",
    "genre_data['cluster'] = cluster_pipeline.predict(X)\n"
   ]
  },
  {
   "cell_type": "code",
   "execution_count": null,
   "id": "28ec1f28",
   "metadata": {},
   "outputs": [],
   "source": [
    "# Visualizing the Clusters with t-SNE\n",
    "\n",
    "tsne_pipeline = Pipeline([('scaler', StandardScaler()), ('tsne', TSNE(n_components=2, verbose=1))])\n",
    "genre_embedding = tsne_pipeline.fit_transform(X) # 2D representation of the data.\n",
    "projection = pd.DataFrame(columns=['x', 'y'], data=genre_embedding)\n",
    "projection['genres'] = genre_data['genres']\n",
    "projection['cluster'] = genre_data['cluster']\n",
    "\n",
    "fig = px.scatter(\n",
    "    projection, x='x', y='y', color='cluster', hover_data=['x', 'y', 'genres'])\n",
    "fig.show()"
   ]
  },
  {
   "cell_type": "code",
   "execution_count": null,
   "id": "41aa4ac4",
   "metadata": {},
   "outputs": [],
   "source": [
    "# Corrected Pipeline definition\n",
    "song_cluster_pipeline = Pipeline([\n",
    "    ('scaler', StandardScaler()), \n",
    "    ('kmeans', KMeans(n_clusters=20, verbose=False))\n",
    "], verbose=False)\n",
    "\n",
    "# Selecting numerical data from the data\n",
    "X = data.select_dtypes(np.number)\n",
    "number_cols = list(X.columns)\n",
    "\n",
    "# Fitting the pipeline to the data\n",
    "song_cluster_pipeline.fit(X)\n",
    "\n",
    "# Predicting cluster labels and adding them to the original dataframe\n",
    "song_cluster_labels = song_cluster_pipeline.predict(X)\n",
    "data['cluster_label'] = song_cluster_labels"
   ]
  },
  {
   "cell_type": "code",
   "execution_count": null,
   "id": "d405dfb9",
   "metadata": {},
   "outputs": [],
   "source": [
    "# Visualizing the Clusters with PCA\n",
    "\n",
    "pca_pipeline = Pipeline([('scaler', StandardScaler()), ('PCA', PCA(n_components=2))])\n",
    "song_embedding = pca_pipeline.fit_transform(X)\n",
    "projection = pd.DataFrame(columns=['x', 'y'], data=song_embedding)\n",
    "projection['title'] = data['name']\n",
    "projection['cluster'] = data['cluster_label']\n",
    "\n",
    "fig = px.scatter(\n",
    "    projection, x='x', y='y', color='cluster', hover_data=['x', 'y', 'title'])\n",
    "fig.show()"
   ]
  },
  {
   "cell_type": "code",
   "execution_count": null,
   "id": "d56562f3",
   "metadata": {},
   "outputs": [],
   "source": [
    "#Build Recommender System"
   ]
  },
  {
   "cell_type": "code",
   "execution_count": null,
   "id": "d381a8f2",
   "metadata": {
    "scrolled": false
   },
   "outputs": [],
   "source": [
    "# Inspect the DataFrame to identify correct column names\n",
    "print(data.head())\n",
    "print(data.columns)"
   ]
  },
  {
   "cell_type": "code",
   "execution_count": null,
   "id": "32c525ac",
   "metadata": {},
   "outputs": [],
   "source": [
    "# Feature engineering:\n",
    "data['release_date'] = pd.to_datetime(data['release_date'], errors='coerce')\n",
    "\n",
    "# If you don't have last listen time, you can't compute 'time_since_last_listen'.\n",
    "# Instead, you may use available features directly.\n",
    "data['listen_frequency'] = data.groupby(['id'])['release_date'].transform('count')"
   ]
  },
  {
   "cell_type": "code",
   "execution_count": null,
   "id": "26b56ac0",
   "metadata": {},
   "outputs": [],
   "source": [
    "# Standardize features\n",
    "scaler = StandardScaler()\n",
    "X_train_scaled = scaler.fit_transform(X_train)\n",
    "X_test_scaled = scaler.transform(X_test)"
   ]
  },
  {
   "cell_type": "code",
   "execution_count": null,
   "id": "8671a1cd",
   "metadata": {},
   "outputs": [],
   "source": [
    "# Build and train the KNN model\n",
    "knn = KNeighborsClassifier(n_neighbors=5)  \n",
    "knn.fit(X_train_scaled, y_train)\n",
    "\n",
    "# Make predictions\n",
    "y_pred = knn.predict(X_test_scaled)\n",
    "\n",
    "# Evaluate the model\n",
    "print(\"Accuracy:\", accuracy_score(y_test, y_pred))\n",
    "print(\"Classification Report:\\n\", classification_report(y_test, y_pred))"
   ]
  },
  {
   "cell_type": "code",
   "execution_count": null,
   "id": "5c42df7a",
   "metadata": {},
   "outputs": [],
   "source": [
    "#save the model \n",
    "joblib.dump(knn, 'knn_recommender_model.pkl')"
   ]
  },
  {
   "cell_type": "code",
   "execution_count": null,
   "id": "39f52801",
   "metadata": {},
   "outputs": [],
   "source": [
    "# Read data\n",
    "songs_data = pd.read_csv(\"C:\\\\Users\\\\hoorm\\\\Desktop\\\\Codes\\\\Internship Code Alpha\\\\CodeAlpha_ MUSIC RECOMMDATION SYSTEM\\\\data_by_artist.csv\")\n",
    "\n",
    "# Print column names to find the correct one\n",
    "print(songs_data.columns)"
   ]
  },
  {
   "cell_type": "code",
   "execution_count": null,
   "id": "ff6c897e",
   "metadata": {},
   "outputs": [],
   "source": [
    "# Define a function to map mode values to emotions\n",
    "def map_mode_to_emotion(mode):\n",
    "    return 'happy' if mode == 0 else 'sad'\n",
    "\n",
    "# Apply the function to create the new 'emotion' column\n",
    "songs_data['emotion'] = songs_data['mode'].apply(map_mode_to_emotion)\n",
    "songs_data"
   ]
  },
  {
   "cell_type": "code",
   "execution_count": null,
   "id": "00a3bdeb",
   "metadata": {},
   "outputs": [],
   "source": [
    "# Prepare data\n",
    "features = ['acousticness', 'danceability', 'energy', 'instrumentalness', 'liveness', 'valence']\n",
    "X = songs_data[features]\n",
    "\n",
    "# Standardize the features\n",
    "scaler = StandardScaler()\n",
    "X_scaled = scaler.fit_transform(X)"
   ]
  },
  {
   "cell_type": "code",
   "execution_count": null,
   "id": "21442251",
   "metadata": {},
   "outputs": [],
   "source": [
    "# Use Nearest Neighbors to find similar songs\n",
    "nn = NearestNeighbors(n_neighbors=11, metric='cosine', algorithm='brute')\n",
    "nn.fit(X_scaled)\n",
    "\n",
    "# Function to recommend similar songs based on the index\n",
    "def recommend_songs(index, top_n=10):\n",
    "    if index not in songs_data.index:\n",
    "        raise ValueError(f\"Index {index} not found in the dataset\")\n",
    "    \n",
    "    distances, indices = nn.kneighbors([X_scaled[index]], n_neighbors=top_n+1)\n",
    "    similar_indices = indices[0][1:]  # Exclude the song itself\n",
    "    return songs_data.iloc[similar_indices]\n",
    "\n",
    "# Recommend songs based on index\n",
    "index_to_recommend = 20053 \n",
    "recommended_songs = recommend_songs(index=index_to_recommend)\n",
    "print(recommended_songs)"
   ]
  }
 ],
 "metadata": {
  "kernelspec": {
   "display_name": "Python 3 (ipykernel)",
   "language": "python",
   "name": "python3"
  },
  "language_info": {
   "codemirror_mode": {
    "name": "ipython",
    "version": 3
   },
   "file_extension": ".py",
   "mimetype": "text/x-python",
   "name": "python",
   "nbconvert_exporter": "python",
   "pygments_lexer": "ipython3",
   "version": "3.11.3"
  }
 },
 "nbformat": 4,
 "nbformat_minor": 5
}
